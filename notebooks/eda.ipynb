# notebooks/eda.ipynb

import pandas as pd
import matplotlib.pyplot as plt
import seaborn as sns

# Load data
df = pd.read_csv('../data/post-operative-data.csv')  # adjust if needed
df.columns = df.columns.str.strip().str.lower().str.replace(" ", "_")

# Quick look
print(df.shape)
print(df.columns)
df.head()

# Summary
df.describe()
df.info()

# Target distribution (if labeled)
if 'complication' in df.columns:
    sns.countplot(x='complication', data=df)
    plt.title("Complication Label Distribution")
    plt.show()
