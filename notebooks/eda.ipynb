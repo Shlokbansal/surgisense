{
 "cells": [
  {
   "cell_type": "code",
   "execution_count": 2,
   "id": "44dd984f-f4c1-4044-b36b-9762530a0aec",
   "metadata": {},
   "outputs": [
    {
     "name": "stdout",
     "output_type": "stream",
     "text": [
      "(90, 9)\n",
      "Index(['l-core', 'l-surf', 'l-o2', 'l-bp', 'surf-stbl', 'core-stbl', 'bp-stbl',\n",
      "       'comfort', 'decision_adm-decs'],\n",
      "      dtype='object')\n",
      "<class 'pandas.core.frame.DataFrame'>\n",
      "RangeIndex: 90 entries, 0 to 89\n",
      "Data columns (total 9 columns):\n",
      " #   Column             Non-Null Count  Dtype \n",
      "---  ------             --------------  ----- \n",
      " 0   l-core             90 non-null     object\n",
      " 1   l-surf             90 non-null     object\n",
      " 2   l-o2               90 non-null     object\n",
      " 3   l-bp               90 non-null     object\n",
      " 4   surf-stbl          90 non-null     object\n",
      " 5   core-stbl          90 non-null     object\n",
      " 6   bp-stbl            90 non-null     object\n",
      " 7   comfort            90 non-null     object\n",
      " 8   decision_adm-decs  90 non-null     object\n",
      "dtypes: object(9)\n",
      "memory usage: 6.5+ KB\n"
     ]
    }
   ],
   "source": [
    "# notebooks/eda.ipynb\n",
    "\n",
    "import pandas as pd\n",
    "import matplotlib.pyplot as plt\n",
    "import seaborn as sns\n",
    "\n",
    "# Load data\n",
    "df = pd.read_csv('../data/post-operative-data.csv')  # adjust if needed\n",
    "df.columns = df.columns.str.strip().str.lower().str.replace(\" \", \"_\")\n",
    "\n",
    "# Quick look\n",
    "print(df.shape)\n",
    "print(df.columns)\n",
    "df.head()\n",
    "\n",
    "# Summary\n",
    "df.describe()\n",
    "df.info()\n",
    "\n",
    "# Target distribution (if labeled)\n",
    "if 'complication' in df.columns:\n",
    "    sns.countplot(x='complication', data=df)\n",
    "    plt.title(\"Complication Label Distribution\")\n",
    "    plt.show()"
   ]
  },
  {
   "cell_type": "code",
   "execution_count": null,
   "id": "2bad81ac-914b-4096-a9f9-19ae22959bb2",
   "metadata": {},
   "outputs": [],
   "source": []
  }
 ],
 "metadata": {
  "kernelspec": {
   "display_name": "Python [conda env:base] *",
   "language": "python",
   "name": "conda-base-py"
  },
  "language_info": {
   "codemirror_mode": {
    "name": "ipython",
    "version": 3
   },
   "file_extension": ".py",
   "mimetype": "text/x-python",
   "name": "python",
   "nbconvert_exporter": "python",
   "pygments_lexer": "ipython3",
   "version": "3.12.7"
  }
 },
 "nbformat": 4,
 "nbformat_minor": 5
}
